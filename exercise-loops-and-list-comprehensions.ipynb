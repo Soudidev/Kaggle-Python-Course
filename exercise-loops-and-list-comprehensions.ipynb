{
 "cells": [
  {
   "cell_type": "markdown",
   "id": "b3a26def",
   "metadata": {
    "papermill": {
     "duration": 0.010808,
     "end_time": "2023-11-16T04:30:27.998011",
     "exception": false,
     "start_time": "2023-11-16T04:30:27.987203",
     "status": "completed"
    },
    "tags": []
   },
   "source": [
    "**This notebook is an exercise in the [Python](https://www.kaggle.com/learn/python) course.  You can reference the tutorial at [this link](https://www.kaggle.com/colinmorris/loops-and-list-comprehensions).**\n",
    "\n",
    "---\n"
   ]
  },
  {
   "cell_type": "markdown",
   "id": "d83b68bd",
   "metadata": {
    "papermill": {
     "duration": 0.006525,
     "end_time": "2023-11-16T04:30:28.013758",
     "exception": false,
     "start_time": "2023-11-16T04:30:28.007233",
     "status": "completed"
    },
    "tags": []
   },
   "source": [
    "With all you've learned, you can start writing much more interesting programs. See if you can solve the problems below.\n",
    "\n",
    "As always, run the setup code below before working on the questions."
   ]
  },
  {
   "cell_type": "code",
   "execution_count": 1,
   "id": "c2100c35",
   "metadata": {
    "execution": {
     "iopub.execute_input": "2023-11-16T04:30:28.030012Z",
     "iopub.status.busy": "2023-11-16T04:30:28.029196Z",
     "iopub.status.idle": "2023-11-16T04:30:28.489355Z",
     "shell.execute_reply": "2023-11-16T04:30:28.488245Z"
    },
    "papermill": {
     "duration": 0.471506,
     "end_time": "2023-11-16T04:30:28.492174",
     "exception": false,
     "start_time": "2023-11-16T04:30:28.020668",
     "status": "completed"
    },
    "tags": []
   },
   "outputs": [
    {
     "name": "stdout",
     "output_type": "stream",
     "text": [
      "Setup complete.\n"
     ]
    }
   ],
   "source": [
    "from learntools.core import binder; binder.bind(globals())\n",
    "from learntools.python.ex5 import *\n",
    "print('Setup complete.')"
   ]
  },
  {
   "cell_type": "markdown",
   "id": "ae85fd5b",
   "metadata": {
    "papermill": {
     "duration": 0.006712,
     "end_time": "2023-11-16T04:30:28.505812",
     "exception": false,
     "start_time": "2023-11-16T04:30:28.499100",
     "status": "completed"
    },
    "tags": []
   },
   "source": [
    "# 1.\n",
    "\n",
    "Have you ever felt debugging involved a bit of luck? The following program has a bug. Try to identify the bug and fix it."
   ]
  },
  {
   "cell_type": "code",
   "execution_count": 2,
   "id": "3f7294ef",
   "metadata": {
    "execution": {
     "iopub.execute_input": "2023-11-16T04:30:28.521376Z",
     "iopub.status.busy": "2023-11-16T04:30:28.520855Z",
     "iopub.status.idle": "2023-11-16T04:30:28.526918Z",
     "shell.execute_reply": "2023-11-16T04:30:28.525794Z"
    },
    "papermill": {
     "duration": 0.016708,
     "end_time": "2023-11-16T04:30:28.529342",
     "exception": false,
     "start_time": "2023-11-16T04:30:28.512634",
     "status": "completed"
    },
    "tags": []
   },
   "outputs": [],
   "source": [
    "def has_lucky_number(nums):\n",
    "    \"\"\"Return whether the given list of numbers is lucky. A lucky list contains\n",
    "    at least one number divisible by 7.\n",
    "    \"\"\"\n",
    "    for num in nums:\n",
    "        if num % 7 == 0:\n",
    "            return True\n",
    "        else:\n",
    "            return False"
   ]
  },
  {
   "cell_type": "markdown",
   "id": "aeaa8ddd",
   "metadata": {
    "papermill": {
     "duration": 0.006547,
     "end_time": "2023-11-16T04:30:28.542936",
     "exception": false,
     "start_time": "2023-11-16T04:30:28.536389",
     "status": "completed"
    },
    "tags": []
   },
   "source": [
    "Try to identify the bug and fix it in the cell below:"
   ]
  },
  {
   "cell_type": "code",
   "execution_count": 3,
   "id": "57882900",
   "metadata": {
    "execution": {
     "iopub.execute_input": "2023-11-16T04:30:28.558568Z",
     "iopub.status.busy": "2023-11-16T04:30:28.558166Z",
     "iopub.status.idle": "2023-11-16T04:30:28.569496Z",
     "shell.execute_reply": "2023-11-16T04:30:28.568388Z"
    },
    "papermill": {
     "duration": 0.022163,
     "end_time": "2023-11-16T04:30:28.571780",
     "exception": false,
     "start_time": "2023-11-16T04:30:28.549617",
     "status": "completed"
    },
    "tags": []
   },
   "outputs": [
    {
     "data": {
      "application/javascript": [
       "parent.postMessage({\"jupyterEvent\": \"custom.exercise_interaction\", \"data\": {\"outcomeType\": 1, \"valueTowardsCompletion\": 0.25, \"interactionType\": 1, \"questionType\": 2, \"questionId\": \"1_EarlyExitDebugging\", \"learnToolsVersion\": \"0.3.4\", \"failureMessage\": \"\", \"exceptionClass\": \"\", \"trace\": \"\"}}, \"*\")"
      ],
      "text/plain": [
       "<IPython.core.display.Javascript object>"
      ]
     },
     "metadata": {},
     "output_type": "display_data"
    },
    {
     "data": {
      "text/markdown": [
       "<span style=\"color:#33cc33\">Correct:</span> \n",
       "\n",
       "Remember that `return` causes a function to exit immediately. So our original implementation always ran for just one iteration. We can only return `False` if we've looked at every element of the list (and confirmed that none of them are lucky). Though we can return early if the answer is `True`:\n",
       "\n",
       "```python\n",
       "def has_lucky_number(nums):\n",
       "    for num in nums:\n",
       "        if num % 7 == 0:\n",
       "            return True\n",
       "    # We've exhausted the list without finding a lucky number\n",
       "    return False\n",
       "```\n",
       "\n",
       "Here's a one-line version using a list comprehension with Python's `any` function (you can read about what it does by calling `help(any)`):\n",
       "\n",
       "```python\n",
       "def has_lucky_number(nums):\n",
       "    return any([num % 7 == 0 for num in nums])\n",
       "```\n"
      ],
      "text/plain": [
       "Correct: \n",
       "\n",
       "Remember that `return` causes a function to exit immediately. So our original implementation always ran for just one iteration. We can only return `False` if we've looked at every element of the list (and confirmed that none of them are lucky). Though we can return early if the answer is `True`:\n",
       "\n",
       "```python\n",
       "def has_lucky_number(nums):\n",
       "    for num in nums:\n",
       "        if num % 7 == 0:\n",
       "            return True\n",
       "    # We've exhausted the list without finding a lucky number\n",
       "    return False\n",
       "```\n",
       "\n",
       "Here's a one-line version using a list comprehension with Python's `any` function (you can read about what it does by calling `help(any)`):\n",
       "\n",
       "```python\n",
       "def has_lucky_number(nums):\n",
       "    return any([num % 7 == 0 for num in nums])\n",
       "```"
      ]
     },
     "metadata": {},
     "output_type": "display_data"
    }
   ],
   "source": [
    "def has_lucky_number(nums):\n",
    "    \"\"\"Return whether the given list of numbers is lucky. A lucky list contains\n",
    "    at least one number divisible by 7.\n",
    "    \"\"\"\n",
    "    if nums:\n",
    "        count_num_lucky = [num for num in nums if num % 7 == 0]\n",
    "        return bool(count_num_lucky)\n",
    "\n",
    "    else:\n",
    "        return False\n",
    "# Check your answer\n",
    "q1.check()"
   ]
  },
  {
   "cell_type": "code",
   "execution_count": null,
   "id": "e0b13275",
   "metadata": {
    "papermill": {
     "duration": 0.007231,
     "end_time": "2023-11-16T04:30:28.586340",
     "exception": false,
     "start_time": "2023-11-16T04:30:28.579109",
     "status": "completed"
    },
    "tags": []
   },
   "outputs": [],
   "source": []
  },
  {
   "cell_type": "code",
   "execution_count": 4,
   "id": "c3f3852c",
   "metadata": {
    "execution": {
     "iopub.execute_input": "2023-11-16T04:30:28.603225Z",
     "iopub.status.busy": "2023-11-16T04:30:28.602467Z",
     "iopub.status.idle": "2023-11-16T04:30:28.606404Z",
     "shell.execute_reply": "2023-11-16T04:30:28.605590Z"
    },
    "papermill": {
     "duration": 0.015008,
     "end_time": "2023-11-16T04:30:28.608734",
     "exception": false,
     "start_time": "2023-11-16T04:30:28.593726",
     "status": "completed"
    },
    "tags": []
   },
   "outputs": [],
   "source": [
    "#q1.hint()\n",
    "#q1.solution()"
   ]
  },
  {
   "cell_type": "markdown",
   "id": "ce645e2e",
   "metadata": {
    "papermill": {
     "duration": 0.007462,
     "end_time": "2023-11-16T04:30:28.623568",
     "exception": false,
     "start_time": "2023-11-16T04:30:28.616106",
     "status": "completed"
    },
    "tags": []
   },
   "source": [
    "# 2.\n",
    "Look at the Python expression below. What do you think we'll get when we run it? When you've made your prediction, uncomment the code and run the cell to see if you were right."
   ]
  },
  {
   "cell_type": "code",
   "execution_count": 5,
   "id": "484ed117",
   "metadata": {
    "execution": {
     "iopub.execute_input": "2023-11-16T04:30:28.640051Z",
     "iopub.status.busy": "2023-11-16T04:30:28.639599Z",
     "iopub.status.idle": "2023-11-16T04:30:28.644128Z",
     "shell.execute_reply": "2023-11-16T04:30:28.643081Z"
    },
    "papermill": {
     "duration": 0.015586,
     "end_time": "2023-11-16T04:30:28.646466",
     "exception": false,
     "start_time": "2023-11-16T04:30:28.630880",
     "status": "completed"
    },
    "tags": []
   },
   "outputs": [],
   "source": [
    "#[1, 2, 3, 4] > 2"
   ]
  },
  {
   "cell_type": "markdown",
   "id": "5abebf24",
   "metadata": {
    "papermill": {
     "duration": 0.007091,
     "end_time": "2023-11-16T04:30:28.661341",
     "exception": false,
     "start_time": "2023-11-16T04:30:28.654250",
     "status": "completed"
    },
    "tags": []
   },
   "source": [
    "R and Python have some libraries (like numpy and pandas) compare each element of the list to 2 (i.e. do an 'element-wise' comparison) and give us a list of booleans like `[False, False, True, True]`. \n",
    "\n",
    "Implement a function that reproduces this behaviour, returning a list of booleans corresponding to whether the corresponding element is greater than n."
   ]
  },
  {
   "cell_type": "code",
   "execution_count": 6,
   "id": "aee574fd",
   "metadata": {
    "execution": {
     "iopub.execute_input": "2023-11-16T04:30:28.677863Z",
     "iopub.status.busy": "2023-11-16T04:30:28.677450Z",
     "iopub.status.idle": "2023-11-16T04:30:28.687337Z",
     "shell.execute_reply": "2023-11-16T04:30:28.686197Z"
    },
    "papermill": {
     "duration": 0.02096,
     "end_time": "2023-11-16T04:30:28.689672",
     "exception": false,
     "start_time": "2023-11-16T04:30:28.668712",
     "status": "completed"
    },
    "tags": []
   },
   "outputs": [
    {
     "data": {
      "application/javascript": [
       "parent.postMessage({\"jupyterEvent\": \"custom.exercise_interaction\", \"data\": {\"outcomeType\": 4, \"interactionType\": 1, \"questionType\": 2, \"questionId\": \"2_ElementWiseComparison\", \"learnToolsVersion\": \"0.3.4\", \"valueTowardsCompletion\": 0.0, \"failureMessage\": \"\", \"exceptionClass\": \"\", \"trace\": \"\"}}, \"*\")"
      ],
      "text/plain": [
       "<IPython.core.display.Javascript object>"
      ]
     },
     "metadata": {},
     "output_type": "display_data"
    },
    {
     "data": {
      "text/markdown": [
       "<span style=\"color:#ccaa33\">Check:</span> When you've updated the starter code, `check()` will tell you whether your code is correct. "
      ],
      "text/plain": [
       "Check: When you've updated the starter code, `check()` will tell you whether your code is correct. "
      ]
     },
     "metadata": {},
     "output_type": "display_data"
    }
   ],
   "source": [
    "def elementwise_greater_than(L, thresh):\n",
    "    \"\"\"Return a list with the same length as L, where the value at index i is \n",
    "    True if L[i] is greater than thresh, and False otherwise.\n",
    "    \n",
    "    >>> elementwise_greater_than([1, 2, 3, 4], 2)\n",
    "    [False, False, True, True]\n",
    "    \"\"\"\n",
    "    pass\n",
    "\n",
    "# Check your answer\n",
    "q2.check()"
   ]
  },
  {
   "cell_type": "code",
   "execution_count": 7,
   "id": "fe40f9a6",
   "metadata": {
    "execution": {
     "iopub.execute_input": "2023-11-16T04:30:28.707828Z",
     "iopub.status.busy": "2023-11-16T04:30:28.707439Z",
     "iopub.status.idle": "2023-11-16T04:30:28.711883Z",
     "shell.execute_reply": "2023-11-16T04:30:28.710917Z"
    },
    "papermill": {
     "duration": 0.015912,
     "end_time": "2023-11-16T04:30:28.714022",
     "exception": false,
     "start_time": "2023-11-16T04:30:28.698110",
     "status": "completed"
    },
    "tags": []
   },
   "outputs": [],
   "source": [
    "#q2.solution()"
   ]
  },
  {
   "cell_type": "markdown",
   "id": "0e67d6e5",
   "metadata": {
    "papermill": {
     "duration": 0.00744,
     "end_time": "2023-11-16T04:30:28.729430",
     "exception": false,
     "start_time": "2023-11-16T04:30:28.721990",
     "status": "completed"
    },
    "tags": []
   },
   "source": [
    "# 3.\n",
    "\n",
    "Complete the body of the function below according to its docstring."
   ]
  },
  {
   "cell_type": "code",
   "execution_count": 8,
   "id": "aaab73a6",
   "metadata": {
    "execution": {
     "iopub.execute_input": "2023-11-16T04:30:28.746746Z",
     "iopub.status.busy": "2023-11-16T04:30:28.746379Z",
     "iopub.status.idle": "2023-11-16T04:30:28.755296Z",
     "shell.execute_reply": "2023-11-16T04:30:28.754218Z"
    },
    "papermill": {
     "duration": 0.020184,
     "end_time": "2023-11-16T04:30:28.757410",
     "exception": false,
     "start_time": "2023-11-16T04:30:28.737226",
     "status": "completed"
    },
    "tags": []
   },
   "outputs": [
    {
     "data": {
      "application/javascript": [
       "parent.postMessage({\"jupyterEvent\": \"custom.exercise_interaction\", \"data\": {\"outcomeType\": 4, \"interactionType\": 1, \"questionType\": 2, \"questionId\": \"3_BoringMenu\", \"learnToolsVersion\": \"0.3.4\", \"valueTowardsCompletion\": 0.0, \"failureMessage\": \"\", \"exceptionClass\": \"\", \"trace\": \"\"}}, \"*\")"
      ],
      "text/plain": [
       "<IPython.core.display.Javascript object>"
      ]
     },
     "metadata": {},
     "output_type": "display_data"
    },
    {
     "data": {
      "text/markdown": [
       "<span style=\"color:#ccaa33\">Check:</span> When you've updated the starter code, `check()` will tell you whether your code is correct. "
      ],
      "text/plain": [
       "Check: When you've updated the starter code, `check()` will tell you whether your code is correct. "
      ]
     },
     "metadata": {},
     "output_type": "display_data"
    }
   ],
   "source": [
    "def menu_is_boring(meals):\n",
    "    \"\"\"Given a list of meals served over some period of time, return True if the\n",
    "    same meal has ever been served two days in a row, and False otherwise.\n",
    "    \"\"\"\n",
    "    pass\n",
    "\n",
    "# Check your answer\n",
    "q3.check()"
   ]
  },
  {
   "cell_type": "code",
   "execution_count": 9,
   "id": "49d33905",
   "metadata": {
    "execution": {
     "iopub.execute_input": "2023-11-16T04:30:28.775652Z",
     "iopub.status.busy": "2023-11-16T04:30:28.774930Z",
     "iopub.status.idle": "2023-11-16T04:30:28.778693Z",
     "shell.execute_reply": "2023-11-16T04:30:28.777992Z"
    },
    "papermill": {
     "duration": 0.015223,
     "end_time": "2023-11-16T04:30:28.780800",
     "exception": false,
     "start_time": "2023-11-16T04:30:28.765577",
     "status": "completed"
    },
    "tags": []
   },
   "outputs": [],
   "source": [
    "#q3.hint()\n",
    "#q3.solution()"
   ]
  },
  {
   "cell_type": "markdown",
   "id": "3771d414",
   "metadata": {
    "papermill": {
     "duration": 0.008011,
     "end_time": "2023-11-16T04:30:28.797078",
     "exception": false,
     "start_time": "2023-11-16T04:30:28.789067",
     "status": "completed"
    },
    "tags": []
   },
   "source": [
    "# 4. <span title=\"A bit spicy\" style=\"color: darkgreen \">🌶️</span>\n",
    "\n",
    "Next to the Blackjack table, the Python Challenge Casino has a slot machine. You can get a result from the slot machine by calling `play_slot_machine()`. The number it returns is your winnings in dollars. Usually it returns 0.  But sometimes you'll get lucky and get a big payday. Try running it below:"
   ]
  },
  {
   "cell_type": "code",
   "execution_count": 10,
   "id": "5c3d38df",
   "metadata": {
    "execution": {
     "iopub.execute_input": "2023-11-16T04:30:28.816316Z",
     "iopub.status.busy": "2023-11-16T04:30:28.815232Z",
     "iopub.status.idle": "2023-11-16T04:30:28.822118Z",
     "shell.execute_reply": "2023-11-16T04:30:28.821030Z"
    },
    "papermill": {
     "duration": 0.018849,
     "end_time": "2023-11-16T04:30:28.824403",
     "exception": false,
     "start_time": "2023-11-16T04:30:28.805554",
     "status": "completed"
    },
    "tags": []
   },
   "outputs": [
    {
     "data": {
      "text/plain": [
       "0"
      ]
     },
     "execution_count": 10,
     "metadata": {},
     "output_type": "execute_result"
    }
   ],
   "source": [
    "play_slot_machine()"
   ]
  },
  {
   "cell_type": "markdown",
   "id": "eac0d037",
   "metadata": {
    "papermill": {
     "duration": 0.008297,
     "end_time": "2023-11-16T04:30:28.841383",
     "exception": false,
     "start_time": "2023-11-16T04:30:28.833086",
     "status": "completed"
    },
    "tags": []
   },
   "source": [
    "By the way, did we mention that each play costs $1? Don't worry, we'll send you the bill later.\n",
    "\n",
    "On average, how much money can you expect to gain (or lose) every time you play the machine?  The casino keeps it a secret, but you can estimate the average value of each pull using a technique called the **Monte Carlo method**. To estimate the average outcome, we simulate the scenario many times, and return the average result.\n",
    "\n",
    "Complete the following function to calculate the average value per play of the slot machine."
   ]
  },
  {
   "cell_type": "code",
   "execution_count": 11,
   "id": "faf3f3e8",
   "metadata": {
    "execution": {
     "iopub.execute_input": "2023-11-16T04:30:28.860702Z",
     "iopub.status.busy": "2023-11-16T04:30:28.859990Z",
     "iopub.status.idle": "2023-11-16T04:30:28.864744Z",
     "shell.execute_reply": "2023-11-16T04:30:28.863643Z"
    },
    "papermill": {
     "duration": 0.017134,
     "end_time": "2023-11-16T04:30:28.867183",
     "exception": false,
     "start_time": "2023-11-16T04:30:28.850049",
     "status": "completed"
    },
    "tags": []
   },
   "outputs": [],
   "source": [
    "def estimate_average_slot_payout(n_runs):\n",
    "    \"\"\"Run the slot machine n_runs times and return the average net profit per run.\n",
    "    Example calls (note that return value is nondeterministic!):\n",
    "    >>> estimate_average_slot_payout(1)\n",
    "    -1\n",
    "    >>> estimate_average_slot_payout(1)\n",
    "    0.5\n",
    "    \"\"\"\n",
    "    pass"
   ]
  },
  {
   "cell_type": "markdown",
   "id": "7ad8b13b",
   "metadata": {
    "papermill": {
     "duration": 0.008562,
     "end_time": "2023-11-16T04:30:28.884978",
     "exception": false,
     "start_time": "2023-11-16T04:30:28.876416",
     "status": "completed"
    },
    "tags": []
   },
   "source": [
    "When you think you know the expected value per spin, run the code cell below to view the solution and get credit for answering the question."
   ]
  },
  {
   "cell_type": "code",
   "execution_count": 12,
   "id": "2ecb8a5a",
   "metadata": {
    "execution": {
     "iopub.execute_input": "2023-11-16T04:30:28.904471Z",
     "iopub.status.busy": "2023-11-16T04:30:28.903817Z",
     "iopub.status.idle": "2023-11-16T04:30:28.913123Z",
     "shell.execute_reply": "2023-11-16T04:30:28.912036Z"
    },
    "papermill": {
     "duration": 0.021544,
     "end_time": "2023-11-16T04:30:28.915552",
     "exception": false,
     "start_time": "2023-11-16T04:30:28.894008",
     "status": "completed"
    },
    "tags": []
   },
   "outputs": [
    {
     "data": {
      "application/javascript": [
       "parent.postMessage({\"jupyterEvent\": \"custom.exercise_interaction\", \"data\": {\"interactionType\": 3, \"questionType\": 4, \"questionId\": \"4_ExpectedSlotsPayout\", \"learnToolsVersion\": \"0.3.4\", \"valueTowardsCompletion\": 0.0, \"failureMessage\": \"\", \"exceptionClass\": \"\", \"trace\": \"\", \"outcomeType\": 4}}, \"*\")"
      ],
      "text/plain": [
       "<IPython.core.display.Javascript object>"
      ]
     },
     "metadata": {},
     "output_type": "display_data"
    },
    {
     "data": {
      "text/markdown": [
       "<span style=\"color:#33cc99\">Solution:</span> \n",
       "    \n",
       "The exact expected value of one pull of the slot machine is 0.025 - i.e. a little more than 2 cents.  See?  Not every game in the Python Challenge Casino is rigged against the player!\n",
       "\n",
       "In order to get this answer, you'll need to implement the `estimate_average_slot_payout(n_runs)` function to simulate pulling the slot machine `n_runs` times.  It should return the payout averaged over those `n_runs`.\n",
       "\n",
       "Then, once the function is defined, in order to estimate the average slot payout, we need only call the function.\n",
       "\n",
       "Because of the high variance of the outcome (there are some very rare high payout results that significantly affect the average) you might need to run your function with a very high value of `n_runs` to get a stable answer close to the true expectation.  For instance, you might use a value for `n_runs` of 1000000.\n",
       "\n",
       "Here's an example for how the function could look:\n",
       "```python\n",
       "def estimate_average_slot_payout(n_runs):\n",
       "    # Play slot machine n_runs times, calculate payout of each\n",
       "    payouts = [play_slot_machine()-1 for i in range(n_runs)]\n",
       "    # Calculate the average value\n",
       "    avg_payout = sum(payouts) / n_runs\n",
       "    return avg_payout\n",
       "    \n",
       "estimate_average_slot_payout(10000000)\n",
       "\n",
       "```\n",
       "\n",
       "This should return an answer close to 0.025!\n",
       "            \n"
      ],
      "text/plain": [
       "Solution: \n",
       "    \n",
       "The exact expected value of one pull of the slot machine is 0.025 - i.e. a little more than 2 cents.  See?  Not every game in the Python Challenge Casino is rigged against the player!\n",
       "\n",
       "In order to get this answer, you'll need to implement the `estimate_average_slot_payout(n_runs)` function to simulate pulling the slot machine `n_runs` times.  It should return the payout averaged over those `n_runs`.\n",
       "\n",
       "Then, once the function is defined, in order to estimate the average slot payout, we need only call the function.\n",
       "\n",
       "Because of the high variance of the outcome (there are some very rare high payout results that significantly affect the average) you might need to run your function with a very high value of `n_runs` to get a stable answer close to the true expectation.  For instance, you might use a value for `n_runs` of 1000000.\n",
       "\n",
       "Here's an example for how the function could look:\n",
       "```python\n",
       "def estimate_average_slot_payout(n_runs):\n",
       "    # Play slot machine n_runs times, calculate payout of each\n",
       "    payouts = [play_slot_machine()-1 for i in range(n_runs)]\n",
       "    # Calculate the average value\n",
       "    avg_payout = sum(payouts) / n_runs\n",
       "    return avg_payout\n",
       "    \n",
       "estimate_average_slot_payout(10000000)\n",
       "\n",
       "```\n",
       "\n",
       "This should return an answer close to 0.025!\n",
       "            "
      ]
     },
     "metadata": {},
     "output_type": "display_data"
    }
   ],
   "source": [
    "# Check your answer (Run this code cell to receive credit!)\n",
    "q4.solution()"
   ]
  },
  {
   "cell_type": "markdown",
   "id": "f7295568",
   "metadata": {
    "papermill": {
     "duration": 0.008711,
     "end_time": "2023-11-16T04:30:28.933419",
     "exception": false,
     "start_time": "2023-11-16T04:30:28.924708",
     "status": "completed"
    },
    "tags": []
   },
   "source": [
    "# Keep Going\n",
    "\n",
    "Many programmers report that dictionaries are their favorite data structure. You'll get to **[learn about them](https://www.kaggle.com/colinmorris/strings-and-dictionaries)** (as well as strings) in the next lesson."
   ]
  },
  {
   "cell_type": "markdown",
   "id": "f79bcd7f",
   "metadata": {
    "papermill": {
     "duration": 0.008855,
     "end_time": "2023-11-16T04:30:28.951441",
     "exception": false,
     "start_time": "2023-11-16T04:30:28.942586",
     "status": "completed"
    },
    "tags": []
   },
   "source": [
    "---\n",
    "\n",
    "\n",
    "\n",
    "\n",
    "*Have questions or comments? Visit the [course discussion forum](https://www.kaggle.com/learn/python/discussion) to chat with other learners.*"
   ]
  }
 ],
 "metadata": {
  "kaggle": {
   "accelerator": "none",
   "dataSources": [],
   "isGpuEnabled": false,
   "isInternetEnabled": false,
   "language": "python",
   "sourceType": "notebook"
  },
  "kernelspec": {
   "display_name": "Python 3",
   "language": "python",
   "name": "python3"
  },
  "language_info": {
   "codemirror_mode": {
    "name": "ipython",
    "version": 3
   },
   "file_extension": ".py",
   "mimetype": "text/x-python",
   "name": "python",
   "nbconvert_exporter": "python",
   "pygments_lexer": "ipython3",
   "version": "3.10.12"
  },
  "learntools_metadata": {
   "lesson_index": 4,
   "type": "exercise"
  },
  "papermill": {
   "default_parameters": {},
   "duration": 4.753416,
   "end_time": "2023-11-16T04:30:29.380775",
   "environment_variables": {},
   "exception": null,
   "input_path": "__notebook__.ipynb",
   "output_path": "__notebook__.ipynb",
   "parameters": {},
   "start_time": "2023-11-16T04:30:24.627359",
   "version": "2.4.0"
  }
 },
 "nbformat": 4,
 "nbformat_minor": 5
}
