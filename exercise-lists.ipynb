{
 "cells": [
  {
   "cell_type": "markdown",
   "id": "82cc0148",
   "metadata": {
    "papermill": {
     "duration": 0.006594,
     "end_time": "2023-11-13T03:33:02.371318",
     "exception": false,
     "start_time": "2023-11-13T03:33:02.364724",
     "status": "completed"
    },
    "tags": []
   },
   "source": [
    "**This notebook is an exercise in the [Python](https://www.kaggle.com/learn/python) course.  You can reference the tutorial at [this link](https://www.kaggle.com/colinmorris/lists).**\n",
    "\n",
    "---\n"
   ]
  },
  {
   "cell_type": "markdown",
   "id": "a7af5c69",
   "metadata": {
    "papermill": {
     "duration": 0.005503,
     "end_time": "2023-11-13T03:33:02.382874",
     "exception": false,
     "start_time": "2023-11-13T03:33:02.377371",
     "status": "completed"
    },
    "tags": []
   },
   "source": [
    "Things get more interesting with lists. You'll apply your new knowledge to solve the questions below. Remember to run the following cell first."
   ]
  },
  {
   "cell_type": "code",
   "execution_count": 1,
   "id": "ff623cec",
   "metadata": {
    "execution": {
     "iopub.execute_input": "2023-11-13T03:33:02.396558Z",
     "iopub.status.busy": "2023-11-13T03:33:02.395808Z",
     "iopub.status.idle": "2023-11-13T03:33:03.281719Z",
     "shell.execute_reply": "2023-11-13T03:33:03.280345Z"
    },
    "papermill": {
     "duration": 0.89579,
     "end_time": "2023-11-13T03:33:03.284398",
     "exception": false,
     "start_time": "2023-11-13T03:33:02.388608",
     "status": "completed"
    },
    "tags": []
   },
   "outputs": [
    {
     "name": "stdout",
     "output_type": "stream",
     "text": [
      "Setup complete.\n"
     ]
    }
   ],
   "source": [
    "from learntools.core import binder; binder.bind(globals())\n",
    "from learntools.python.ex4 import *\n",
    "print('Setup complete.')"
   ]
  },
  {
   "cell_type": "markdown",
   "id": "9b090f17",
   "metadata": {
    "papermill": {
     "duration": 0.00567,
     "end_time": "2023-11-13T03:33:03.296267",
     "exception": false,
     "start_time": "2023-11-13T03:33:03.290597",
     "status": "completed"
    },
    "tags": []
   },
   "source": [
    "# 1.\n",
    "\n",
    "Complete the function below according to its docstring."
   ]
  },
  {
   "cell_type": "code",
   "execution_count": 2,
   "id": "dc6cc833",
   "metadata": {
    "execution": {
     "iopub.execute_input": "2023-11-13T03:33:03.309968Z",
     "iopub.status.busy": "2023-11-13T03:33:03.309444Z",
     "iopub.status.idle": "2023-11-13T03:33:03.321148Z",
     "shell.execute_reply": "2023-11-13T03:33:03.320076Z"
    },
    "papermill": {
     "duration": 0.021118,
     "end_time": "2023-11-13T03:33:03.323338",
     "exception": false,
     "start_time": "2023-11-13T03:33:03.302220",
     "status": "completed"
    },
    "tags": []
   },
   "outputs": [
    {
     "data": {
      "application/javascript": [
       "parent.postMessage({\"jupyterEvent\": \"custom.exercise_interaction\", \"data\": {\"outcomeType\": 1, \"valueTowardsCompletion\": 0.2, \"interactionType\": 1, \"questionType\": 2, \"questionId\": \"1_SelectSecondItem\", \"learnToolsVersion\": \"0.3.4\", \"failureMessage\": \"\", \"exceptionClass\": \"\", \"trace\": \"\"}}, \"*\")"
      ],
      "text/plain": [
       "<IPython.core.display.Javascript object>"
      ]
     },
     "metadata": {},
     "output_type": "display_data"
    },
    {
     "data": {
      "text/markdown": [
       "<span style=\"color:#33cc33\">Correct</span>"
      ],
      "text/plain": [
       "Correct"
      ]
     },
     "metadata": {},
     "output_type": "display_data"
    }
   ],
   "source": [
    "def select_second(L):\n",
    "    \"\"\"Return the second element of the given list. If the list has no second\n",
    "    element, return None.\n",
    "    \"\"\"\n",
    "    return None if len(L)<2 else L[1]\n",
    "    pass\n",
    "\n",
    "# Check your answer\n",
    "q1.check()"
   ]
  },
  {
   "cell_type": "code",
   "execution_count": 3,
   "id": "6808fa63",
   "metadata": {
    "collapsed": true,
    "execution": {
     "iopub.execute_input": "2023-11-13T03:33:03.337934Z",
     "iopub.status.busy": "2023-11-13T03:33:03.337555Z",
     "iopub.status.idle": "2023-11-13T03:33:03.342392Z",
     "shell.execute_reply": "2023-11-13T03:33:03.341274Z"
    },
    "jupyter": {
     "outputs_hidden": true
    },
    "papermill": {
     "duration": 0.014805,
     "end_time": "2023-11-13T03:33:03.344628",
     "exception": false,
     "start_time": "2023-11-13T03:33:03.329823",
     "status": "completed"
    },
    "tags": []
   },
   "outputs": [],
   "source": [
    "#q1.hint()\n",
    "#q1.solution()"
   ]
  },
  {
   "cell_type": "markdown",
   "id": "eb544124",
   "metadata": {
    "papermill": {
     "duration": 0.006094,
     "end_time": "2023-11-13T03:33:03.357222",
     "exception": false,
     "start_time": "2023-11-13T03:33:03.351128",
     "status": "completed"
    },
    "tags": []
   },
   "source": [
    "# 2.\n",
    "\n",
    "You are analyzing sports teams.  Members of each team are stored in a list. The Coach is the first name in the list, the captain is the second name in the list, and other players are listed after that. \n",
    "These lists are stored in another list, which starts with the best team and proceeds through the list to the worst team last.  Complete the function below to select the **captain** of the worst team."
   ]
  },
  {
   "cell_type": "code",
   "execution_count": 4,
   "id": "b9886d64",
   "metadata": {
    "execution": {
     "iopub.execute_input": "2023-11-13T03:33:03.373933Z",
     "iopub.status.busy": "2023-11-13T03:33:03.372732Z",
     "iopub.status.idle": "2023-11-13T03:33:03.381728Z",
     "shell.execute_reply": "2023-11-13T03:33:03.380944Z"
    },
    "papermill": {
     "duration": 0.020204,
     "end_time": "2023-11-13T03:33:03.383849",
     "exception": false,
     "start_time": "2023-11-13T03:33:03.363645",
     "status": "completed"
    },
    "tags": []
   },
   "outputs": [
    {
     "data": {
      "application/javascript": [
       "parent.postMessage({\"jupyterEvent\": \"custom.exercise_interaction\", \"data\": {\"outcomeType\": 4, \"interactionType\": 1, \"questionType\": 2, \"questionId\": \"2_LosingTeamCaptain\", \"learnToolsVersion\": \"0.3.4\", \"valueTowardsCompletion\": 0.0, \"failureMessage\": \"\", \"exceptionClass\": \"\", \"trace\": \"\"}}, \"*\")"
      ],
      "text/plain": [
       "<IPython.core.display.Javascript object>"
      ]
     },
     "metadata": {},
     "output_type": "display_data"
    },
    {
     "data": {
      "text/markdown": [
       "<span style=\"color:#ccaa33\">Check:</span> When you've updated the starter code, `check()` will tell you whether your code is correct. "
      ],
      "text/plain": [
       "Check: When you've updated the starter code, `check()` will tell you whether your code is correct. "
      ]
     },
     "metadata": {},
     "output_type": "display_data"
    }
   ],
   "source": [
    "def losing_team_captain(teams):\n",
    "    \"\"\"Given a list of teams, where each team is a list of names, return the 2nd player (captain)\n",
    "    from the last listed team\n",
    "    \"\"\"\n",
    "    pass\n",
    "\n",
    "# Check your answer\n",
    "q2.check()"
   ]
  },
  {
   "cell_type": "code",
   "execution_count": 5,
   "id": "4aeec941",
   "metadata": {
    "collapsed": true,
    "execution": {
     "iopub.execute_input": "2023-11-13T03:33:03.399375Z",
     "iopub.status.busy": "2023-11-13T03:33:03.398981Z",
     "iopub.status.idle": "2023-11-13T03:33:03.403434Z",
     "shell.execute_reply": "2023-11-13T03:33:03.402283Z"
    },
    "jupyter": {
     "outputs_hidden": true
    },
    "papermill": {
     "duration": 0.015279,
     "end_time": "2023-11-13T03:33:03.405965",
     "exception": false,
     "start_time": "2023-11-13T03:33:03.390686",
     "status": "completed"
    },
    "tags": []
   },
   "outputs": [],
   "source": [
    "#q2.hint()\n",
    "#q2.solution()"
   ]
  },
  {
   "cell_type": "markdown",
   "id": "69e265fe",
   "metadata": {
    "papermill": {
     "duration": 0.006536,
     "end_time": "2023-11-13T03:33:03.419552",
     "exception": false,
     "start_time": "2023-11-13T03:33:03.413016",
     "status": "completed"
    },
    "tags": []
   },
   "source": [
    "# 3.\n",
    "\n",
    "The next iteration of Mario Kart will feature an extra-infuriating new item, the *Purple Shell*. When used, it warps the last place racer into first place and the first place racer into last place. Complete the function below to implement the Purple Shell's effect."
   ]
  },
  {
   "cell_type": "code",
   "execution_count": 6,
   "id": "91f7261f",
   "metadata": {
    "execution": {
     "iopub.execute_input": "2023-11-13T03:33:03.435907Z",
     "iopub.status.busy": "2023-11-13T03:33:03.434589Z",
     "iopub.status.idle": "2023-11-13T03:33:03.444954Z",
     "shell.execute_reply": "2023-11-13T03:33:03.443954Z"
    },
    "papermill": {
     "duration": 0.021327,
     "end_time": "2023-11-13T03:33:03.447752",
     "exception": false,
     "start_time": "2023-11-13T03:33:03.426425",
     "status": "completed"
    },
    "tags": []
   },
   "outputs": [
    {
     "data": {
      "application/javascript": [
       "parent.postMessage({\"jupyterEvent\": \"custom.exercise_interaction\", \"data\": {\"outcomeType\": 4, \"interactionType\": 1, \"questionType\": 2, \"questionId\": \"3_PurpleShell\", \"learnToolsVersion\": \"0.3.4\", \"valueTowardsCompletion\": 0.0, \"failureMessage\": \"\", \"exceptionClass\": \"\", \"trace\": \"\"}}, \"*\")"
      ],
      "text/plain": [
       "<IPython.core.display.Javascript object>"
      ]
     },
     "metadata": {},
     "output_type": "display_data"
    },
    {
     "data": {
      "text/markdown": [
       "<span style=\"color:#ccaa33\">Check:</span> When you've updated the starter code, `check()` will tell you whether your code is correct. "
      ],
      "text/plain": [
       "Check: When you've updated the starter code, `check()` will tell you whether your code is correct. "
      ]
     },
     "metadata": {},
     "output_type": "display_data"
    }
   ],
   "source": [
    "def purple_shell(racers):\n",
    "    \"\"\"Given a list of racers, set the first place racer (at the front of the list) to last\n",
    "    place and vice versa.\n",
    "    \n",
    "    >>> r = [\"Mario\", \"Bowser\", \"Luigi\"]\n",
    "    >>> purple_shell(r)\n",
    "    >>> r\n",
    "    [\"Luigi\", \"Bowser\", \"Mario\"]\n",
    "    \"\"\"\n",
    "    pass\n",
    "\n",
    "# Check your answer\n",
    "q3.check()"
   ]
  },
  {
   "cell_type": "code",
   "execution_count": 7,
   "id": "8f5457a6",
   "metadata": {
    "collapsed": true,
    "execution": {
     "iopub.execute_input": "2023-11-13T03:33:03.464628Z",
     "iopub.status.busy": "2023-11-13T03:33:03.464210Z",
     "iopub.status.idle": "2023-11-13T03:33:03.469331Z",
     "shell.execute_reply": "2023-11-13T03:33:03.468204Z"
    },
    "jupyter": {
     "outputs_hidden": true
    },
    "papermill": {
     "duration": 0.016463,
     "end_time": "2023-11-13T03:33:03.471761",
     "exception": false,
     "start_time": "2023-11-13T03:33:03.455298",
     "status": "completed"
    },
    "tags": []
   },
   "outputs": [],
   "source": [
    "#q3.hint()\n",
    "#q3.solution()"
   ]
  },
  {
   "cell_type": "markdown",
   "id": "2b2b2547",
   "metadata": {
    "papermill": {
     "duration": 0.00732,
     "end_time": "2023-11-13T03:33:03.486750",
     "exception": false,
     "start_time": "2023-11-13T03:33:03.479430",
     "status": "completed"
    },
    "tags": []
   },
   "source": [
    "# 4.\n",
    "\n",
    "What are the lengths of the following lists? Fill in the variable `lengths` with your predictions. (Try to make a prediction for each list *without* just calling `len()` on it.)"
   ]
  },
  {
   "cell_type": "code",
   "execution_count": 8,
   "id": "88dafcf5",
   "metadata": {
    "execution": {
     "iopub.execute_input": "2023-11-13T03:33:03.504178Z",
     "iopub.status.busy": "2023-11-13T03:33:03.503644Z",
     "iopub.status.idle": "2023-11-13T03:33:03.514499Z",
     "shell.execute_reply": "2023-11-13T03:33:03.513277Z"
    },
    "papermill": {
     "duration": 0.022428,
     "end_time": "2023-11-13T03:33:03.516835",
     "exception": false,
     "start_time": "2023-11-13T03:33:03.494407",
     "status": "completed"
    },
    "tags": []
   },
   "outputs": [
    {
     "data": {
      "application/javascript": [
       "parent.postMessage({\"jupyterEvent\": \"custom.exercise_interaction\", \"data\": {\"outcomeType\": 4, \"interactionType\": 1, \"questionType\": 1, \"questionId\": \"4_UnderstandLen\", \"learnToolsVersion\": \"0.3.4\", \"valueTowardsCompletion\": 0.0, \"failureMessage\": \"\", \"exceptionClass\": \"\", \"trace\": \"\"}}, \"*\")"
      ],
      "text/plain": [
       "<IPython.core.display.Javascript object>"
      ]
     },
     "metadata": {},
     "output_type": "display_data"
    },
    {
     "data": {
      "text/markdown": [
       "<span style=\"color:#ccaa33\">Check:</span> When you've updated the starter code, `check()` will tell you whether your code is correct. You need to update the code that creates variable `lengths`"
      ],
      "text/plain": [
       "Check: When you've updated the starter code, `check()` will tell you whether your code is correct. You need to update the code that creates variable `lengths`"
      ]
     },
     "metadata": {},
     "output_type": "display_data"
    }
   ],
   "source": [
    "a = [1, 2, 3]\n",
    "b = [1, [2, 3]]\n",
    "c = []\n",
    "d = [1, 2, 3][1:]\n",
    "\n",
    "# Put your predictions in the list below. Lengths should contain 4 numbers, the\n",
    "# first being the length of a, the second being the length of b and so on.\n",
    "lengths = []\n",
    "\n",
    "# Check your answer\n",
    "q4.check()"
   ]
  },
  {
   "cell_type": "code",
   "execution_count": 9,
   "id": "99b8feaa",
   "metadata": {
    "collapsed": true,
    "execution": {
     "iopub.execute_input": "2023-11-13T03:33:03.534623Z",
     "iopub.status.busy": "2023-11-13T03:33:03.534197Z",
     "iopub.status.idle": "2023-11-13T03:33:03.538847Z",
     "shell.execute_reply": "2023-11-13T03:33:03.537758Z"
    },
    "jupyter": {
     "outputs_hidden": true
    },
    "papermill": {
     "duration": 0.016223,
     "end_time": "2023-11-13T03:33:03.541136",
     "exception": false,
     "start_time": "2023-11-13T03:33:03.524913",
     "status": "completed"
    },
    "tags": []
   },
   "outputs": [],
   "source": [
    "# line below provides some explanation\n",
    "#q4.solution()"
   ]
  },
  {
   "cell_type": "markdown",
   "id": "188ccd56",
   "metadata": {
    "papermill": {
     "duration": 0.007549,
     "end_time": "2023-11-13T03:33:03.556562",
     "exception": false,
     "start_time": "2023-11-13T03:33:03.549013",
     "status": "completed"
    },
    "tags": []
   },
   "source": [
    "# 5. <span title=\"A bit spicy\" style=\"color: darkgreen \">🌶️</span>\n",
    "\n",
    "We're using lists to record people who attended our party and what order they arrived in. For example, the following list represents a party with 7 guests, in which Adela showed up first and Ford was the last to arrive:\n",
    "\n",
    "    party_attendees = ['Adela', 'Fleda', 'Owen', 'May', 'Mona', 'Gilbert', 'Ford']\n",
    "\n",
    "A guest is considered 'fashionably late' if they arrived after at least half of the party's guests. However, they must not be the very last guest (that's taking it too far). In the above example, Mona and Gilbert are the only guests who were fashionably late.\n",
    "\n",
    "Complete the function below which takes a list of party attendees as well as a person, and tells us whether that person is fashionably late."
   ]
  },
  {
   "cell_type": "code",
   "execution_count": 10,
   "id": "9d6611d2",
   "metadata": {
    "execution": {
     "iopub.execute_input": "2023-11-13T03:33:03.574066Z",
     "iopub.status.busy": "2023-11-13T03:33:03.573663Z",
     "iopub.status.idle": "2023-11-13T03:33:03.584406Z",
     "shell.execute_reply": "2023-11-13T03:33:03.583127Z"
    },
    "papermill": {
     "duration": 0.022415,
     "end_time": "2023-11-13T03:33:03.586776",
     "exception": false,
     "start_time": "2023-11-13T03:33:03.564361",
     "status": "completed"
    },
    "tags": []
   },
   "outputs": [
    {
     "data": {
      "application/javascript": [
       "parent.postMessage({\"jupyterEvent\": \"custom.exercise_interaction\", \"data\": {\"outcomeType\": 4, \"interactionType\": 1, \"questionType\": 2, \"questionId\": \"5_FashionablyLate\", \"learnToolsVersion\": \"0.3.4\", \"valueTowardsCompletion\": 0.0, \"failureMessage\": \"\", \"exceptionClass\": \"\", \"trace\": \"\"}}, \"*\")"
      ],
      "text/plain": [
       "<IPython.core.display.Javascript object>"
      ]
     },
     "metadata": {},
     "output_type": "display_data"
    },
    {
     "data": {
      "text/markdown": [
       "<span style=\"color:#ccaa33\">Check:</span> When you've updated the starter code, `check()` will tell you whether your code is correct. "
      ],
      "text/plain": [
       "Check: When you've updated the starter code, `check()` will tell you whether your code is correct. "
      ]
     },
     "metadata": {},
     "output_type": "display_data"
    }
   ],
   "source": [
    "def fashionably_late(arrivals, name):\n",
    "    \"\"\"Given an ordered list of arrivals to the party and a name, return whether the guest with that\n",
    "    name was fashionably late.\n",
    "    \"\"\"\n",
    "    pass\n",
    "\n",
    "# Check your answer\n",
    "q5.check()"
   ]
  },
  {
   "cell_type": "code",
   "execution_count": 11,
   "id": "e96926ca",
   "metadata": {
    "collapsed": true,
    "execution": {
     "iopub.execute_input": "2023-11-13T03:33:03.606602Z",
     "iopub.status.busy": "2023-11-13T03:33:03.606187Z",
     "iopub.status.idle": "2023-11-13T03:33:03.611241Z",
     "shell.execute_reply": "2023-11-13T03:33:03.609998Z"
    },
    "jupyter": {
     "outputs_hidden": true
    },
    "papermill": {
     "duration": 0.018443,
     "end_time": "2023-11-13T03:33:03.613930",
     "exception": false,
     "start_time": "2023-11-13T03:33:03.595487",
     "status": "completed"
    },
    "tags": []
   },
   "outputs": [],
   "source": [
    "#q5.hint()\n",
    "#q5.solution()"
   ]
  },
  {
   "cell_type": "markdown",
   "id": "250547d8",
   "metadata": {
    "papermill": {
     "duration": 0.008108,
     "end_time": "2023-11-13T03:33:03.630683",
     "exception": false,
     "start_time": "2023-11-13T03:33:03.622575",
     "status": "completed"
    },
    "tags": []
   },
   "source": [
    "# Keep Going\n",
    "\n",
    "That's it for lists and tuples! Now you have the baseline knowledge to **[learn about loops](https://www.kaggle.com/colinmorris/loops-and-list-comprehensions)**, which is where lists and tuples get really interesting. "
   ]
  },
  {
   "cell_type": "markdown",
   "id": "ed4175d1",
   "metadata": {
    "papermill": {
     "duration": 0.008059,
     "end_time": "2023-11-13T03:33:03.647276",
     "exception": false,
     "start_time": "2023-11-13T03:33:03.639217",
     "status": "completed"
    },
    "tags": []
   },
   "source": [
    "---\n",
    "\n",
    "\n",
    "\n",
    "\n",
    "*Have questions or comments? Visit the [course discussion forum](https://www.kaggle.com/learn/python/discussion) to chat with other learners.*"
   ]
  }
 ],
 "metadata": {
  "kernelspec": {
   "display_name": "Python 3",
   "language": "python",
   "name": "python3"
  },
  "language_info": {
   "codemirror_mode": {
    "name": "ipython",
    "version": 3
   },
   "file_extension": ".py",
   "mimetype": "text/x-python",
   "name": "python",
   "nbconvert_exporter": "python",
   "pygments_lexer": "ipython3",
   "version": "3.10.12"
  },
  "papermill": {
   "default_parameters": {},
   "duration": 6.614632,
   "end_time": "2023-11-13T03:33:04.177369",
   "environment_variables": {},
   "exception": null,
   "input_path": "__notebook__.ipynb",
   "output_path": "__notebook__.ipynb",
   "parameters": {},
   "start_time": "2023-11-13T03:32:57.562737",
   "version": "2.4.0"
  }
 },
 "nbformat": 4,
 "nbformat_minor": 5
}
