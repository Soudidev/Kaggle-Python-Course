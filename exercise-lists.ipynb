{
 "cells": [
  {
   "cell_type": "markdown",
   "id": "a9d6e46a",
   "metadata": {
    "papermill": {
     "duration": 0.006858,
     "end_time": "2023-11-14T02:25:50.909326",
     "exception": false,
     "start_time": "2023-11-14T02:25:50.902468",
     "status": "completed"
    },
    "tags": []
   },
   "source": [
    "**This notebook is an exercise in the [Python](https://www.kaggle.com/learn/python) course.  You can reference the tutorial at [this link](https://www.kaggle.com/colinmorris/lists).**\n",
    "\n",
    "---\n"
   ]
  },
  {
   "cell_type": "markdown",
   "id": "d6f937fd",
   "metadata": {
    "papermill": {
     "duration": 0.005751,
     "end_time": "2023-11-14T02:25:50.921458",
     "exception": false,
     "start_time": "2023-11-14T02:25:50.915707",
     "status": "completed"
    },
    "tags": []
   },
   "source": [
    "Things get more interesting with lists. You'll apply your new knowledge to solve the questions below. Remember to run the following cell first."
   ]
  },
  {
   "cell_type": "code",
   "execution_count": 1,
   "id": "160e5c60",
   "metadata": {
    "execution": {
     "iopub.execute_input": "2023-11-14T02:25:50.935586Z",
     "iopub.status.busy": "2023-11-14T02:25:50.935093Z",
     "iopub.status.idle": "2023-11-14T02:25:51.408760Z",
     "shell.execute_reply": "2023-11-14T02:25:51.407403Z"
    },
    "papermill": {
     "duration": 0.484689,
     "end_time": "2023-11-14T02:25:51.412174",
     "exception": false,
     "start_time": "2023-11-14T02:25:50.927485",
     "status": "completed"
    },
    "tags": []
   },
   "outputs": [
    {
     "name": "stdout",
     "output_type": "stream",
     "text": [
      "Setup complete.\n"
     ]
    }
   ],
   "source": [
    "from learntools.core import binder; binder.bind(globals())\n",
    "from learntools.python.ex4 import *\n",
    "print('Setup complete.')"
   ]
  },
  {
   "cell_type": "markdown",
   "id": "e763e79b",
   "metadata": {
    "papermill": {
     "duration": 0.005781,
     "end_time": "2023-11-14T02:25:51.424355",
     "exception": false,
     "start_time": "2023-11-14T02:25:51.418574",
     "status": "completed"
    },
    "tags": []
   },
   "source": [
    "# 1.\n",
    "\n",
    "Complete the function below according to its docstring."
   ]
  },
  {
   "cell_type": "code",
   "execution_count": 2,
   "id": "2c1f1b2e",
   "metadata": {
    "execution": {
     "iopub.execute_input": "2023-11-14T02:25:51.439574Z",
     "iopub.status.busy": "2023-11-14T02:25:51.438129Z",
     "iopub.status.idle": "2023-11-14T02:25:51.450088Z",
     "shell.execute_reply": "2023-11-14T02:25:51.448961Z"
    },
    "papermill": {
     "duration": 0.021835,
     "end_time": "2023-11-14T02:25:51.452310",
     "exception": false,
     "start_time": "2023-11-14T02:25:51.430475",
     "status": "completed"
    },
    "tags": []
   },
   "outputs": [
    {
     "data": {
      "application/javascript": [
       "parent.postMessage({\"jupyterEvent\": \"custom.exercise_interaction\", \"data\": {\"outcomeType\": 1, \"valueTowardsCompletion\": 0.2, \"interactionType\": 1, \"questionType\": 2, \"questionId\": \"1_SelectSecondItem\", \"learnToolsVersion\": \"0.3.4\", \"failureMessage\": \"\", \"exceptionClass\": \"\", \"trace\": \"\"}}, \"*\")"
      ],
      "text/plain": [
       "<IPython.core.display.Javascript object>"
      ]
     },
     "metadata": {},
     "output_type": "display_data"
    },
    {
     "data": {
      "text/markdown": [
       "<span style=\"color:#33cc33\">Correct</span>"
      ],
      "text/plain": [
       "Correct"
      ]
     },
     "metadata": {},
     "output_type": "display_data"
    }
   ],
   "source": [
    "def select_second(L):\n",
    "    \"\"\"Return the second element of the given list. If the list has no second\n",
    "    element, return None.\n",
    "    \"\"\"\n",
    "    return None if len(L)<2 else L[1]\n",
    "    pass\n",
    "\n",
    "# Check your answer\n",
    "q1.check()"
   ]
  },
  {
   "cell_type": "code",
   "execution_count": 3,
   "id": "bacde0a3",
   "metadata": {
    "collapsed": true,
    "execution": {
     "iopub.execute_input": "2023-11-14T02:25:51.467367Z",
     "iopub.status.busy": "2023-11-14T02:25:51.466643Z",
     "iopub.status.idle": "2023-11-14T02:25:51.471840Z",
     "shell.execute_reply": "2023-11-14T02:25:51.470669Z"
    },
    "jupyter": {
     "outputs_hidden": true
    },
    "papermill": {
     "duration": 0.015464,
     "end_time": "2023-11-14T02:25:51.474291",
     "exception": false,
     "start_time": "2023-11-14T02:25:51.458827",
     "status": "completed"
    },
    "tags": []
   },
   "outputs": [],
   "source": [
    "#q1.hint()\n",
    "#q1.solution()"
   ]
  },
  {
   "cell_type": "markdown",
   "id": "7ef8bb8b",
   "metadata": {
    "papermill": {
     "duration": 0.006215,
     "end_time": "2023-11-14T02:25:51.487164",
     "exception": false,
     "start_time": "2023-11-14T02:25:51.480949",
     "status": "completed"
    },
    "tags": []
   },
   "source": [
    "# 2.\n",
    "\n",
    "You are analyzing sports teams.  Members of each team are stored in a list. The Coach is the first name in the list, the captain is the second name in the list, and other players are listed after that. \n",
    "These lists are stored in another list, which starts with the best team and proceeds through the list to the worst team last.  Complete the function below to select the **captain** of the worst team."
   ]
  },
  {
   "cell_type": "code",
   "execution_count": 4,
   "id": "9c8d1aa8",
   "metadata": {
    "execution": {
     "iopub.execute_input": "2023-11-14T02:25:51.502559Z",
     "iopub.status.busy": "2023-11-14T02:25:51.502135Z",
     "iopub.status.idle": "2023-11-14T02:25:51.511249Z",
     "shell.execute_reply": "2023-11-14T02:25:51.510199Z"
    },
    "papermill": {
     "duration": 0.019661,
     "end_time": "2023-11-14T02:25:51.513449",
     "exception": false,
     "start_time": "2023-11-14T02:25:51.493788",
     "status": "completed"
    },
    "tags": []
   },
   "outputs": [
    {
     "data": {
      "application/javascript": [
       "parent.postMessage({\"jupyterEvent\": \"custom.exercise_interaction\", \"data\": {\"outcomeType\": 1, \"valueTowardsCompletion\": 0.2, \"interactionType\": 1, \"questionType\": 2, \"questionId\": \"2_LosingTeamCaptain\", \"learnToolsVersion\": \"0.3.4\", \"failureMessage\": \"\", \"exceptionClass\": \"\", \"trace\": \"\"}}, \"*\")"
      ],
      "text/plain": [
       "<IPython.core.display.Javascript object>"
      ]
     },
     "metadata": {},
     "output_type": "display_data"
    },
    {
     "data": {
      "text/markdown": [
       "<span style=\"color:#33cc33\">Correct</span>"
      ],
      "text/plain": [
       "Correct"
      ]
     },
     "metadata": {},
     "output_type": "display_data"
    }
   ],
   "source": [
    "def losing_team_captain(teams):\n",
    "    \"\"\"Given a list of teams, where each team is a list of names, return the 2nd player (captain)\n",
    "    from the last listed team\n",
    "    \"\"\"\n",
    "    return teams [-1][1]\n",
    "    pass\n",
    "\n",
    "# Check your answer\n",
    "q2.check()"
   ]
  },
  {
   "cell_type": "code",
   "execution_count": 5,
   "id": "1adb9070",
   "metadata": {
    "collapsed": true,
    "execution": {
     "iopub.execute_input": "2023-11-14T02:25:51.529655Z",
     "iopub.status.busy": "2023-11-14T02:25:51.528928Z",
     "iopub.status.idle": "2023-11-14T02:25:51.532634Z",
     "shell.execute_reply": "2023-11-14T02:25:51.531910Z"
    },
    "jupyter": {
     "outputs_hidden": true
    },
    "papermill": {
     "duration": 0.01432,
     "end_time": "2023-11-14T02:25:51.534739",
     "exception": false,
     "start_time": "2023-11-14T02:25:51.520419",
     "status": "completed"
    },
    "tags": []
   },
   "outputs": [],
   "source": [
    "#q2.hint()\n",
    "#q2.solution()"
   ]
  },
  {
   "cell_type": "markdown",
   "id": "5306003a",
   "metadata": {
    "papermill": {
     "duration": 0.006626,
     "end_time": "2023-11-14T02:25:51.548306",
     "exception": false,
     "start_time": "2023-11-14T02:25:51.541680",
     "status": "completed"
    },
    "tags": []
   },
   "source": [
    "# 3.\n",
    "\n",
    "The next iteration of Mario Kart will feature an extra-infuriating new item, the *Purple Shell*. When used, it warps the last place racer into first place and the first place racer into last place. Complete the function below to implement the Purple Shell's effect."
   ]
  },
  {
   "cell_type": "code",
   "execution_count": 6,
   "id": "bd4cc9b7",
   "metadata": {
    "execution": {
     "iopub.execute_input": "2023-11-14T02:25:51.564575Z",
     "iopub.status.busy": "2023-11-14T02:25:51.563878Z",
     "iopub.status.idle": "2023-11-14T02:25:51.573035Z",
     "shell.execute_reply": "2023-11-14T02:25:51.571869Z"
    },
    "papermill": {
     "duration": 0.019889,
     "end_time": "2023-11-14T02:25:51.575228",
     "exception": false,
     "start_time": "2023-11-14T02:25:51.555339",
     "status": "completed"
    },
    "tags": []
   },
   "outputs": [
    {
     "data": {
      "application/javascript": [
       "parent.postMessage({\"jupyterEvent\": \"custom.exercise_interaction\", \"data\": {\"outcomeType\": 4, \"interactionType\": 1, \"questionType\": 2, \"questionId\": \"3_PurpleShell\", \"learnToolsVersion\": \"0.3.4\", \"valueTowardsCompletion\": 0.0, \"failureMessage\": \"\", \"exceptionClass\": \"\", \"trace\": \"\"}}, \"*\")"
      ],
      "text/plain": [
       "<IPython.core.display.Javascript object>"
      ]
     },
     "metadata": {},
     "output_type": "display_data"
    },
    {
     "data": {
      "text/markdown": [
       "<span style=\"color:#ccaa33\">Check:</span> When you've updated the starter code, `check()` will tell you whether your code is correct. "
      ],
      "text/plain": [
       "Check: When you've updated the starter code, `check()` will tell you whether your code is correct. "
      ]
     },
     "metadata": {},
     "output_type": "display_data"
    }
   ],
   "source": [
    "def purple_shell(racers):\n",
    "    \"\"\"Given a list of racers, set the first place racer (at the front of the list) to last\n",
    "    place and vice versa.\n",
    "    \n",
    "    >>> r = [\"Mario\", \"Bowser\", \"Luigi\"]\n",
    "    >>> purple_shell(r)\n",
    "    >>> r\n",
    "    [\"Luigi\", \"Bowser\", \"Mario\"]\n",
    "    \"\"\"\n",
    "    pass\n",
    "\n",
    "# Check your answer\n",
    "q3.check()"
   ]
  },
  {
   "cell_type": "code",
   "execution_count": 7,
   "id": "6dae5845",
   "metadata": {
    "collapsed": true,
    "execution": {
     "iopub.execute_input": "2023-11-14T02:25:51.591942Z",
     "iopub.status.busy": "2023-11-14T02:25:51.591484Z",
     "iopub.status.idle": "2023-11-14T02:25:51.596210Z",
     "shell.execute_reply": "2023-11-14T02:25:51.595013Z"
    },
    "jupyter": {
     "outputs_hidden": true
    },
    "papermill": {
     "duration": 0.015966,
     "end_time": "2023-11-14T02:25:51.598575",
     "exception": false,
     "start_time": "2023-11-14T02:25:51.582609",
     "status": "completed"
    },
    "tags": []
   },
   "outputs": [],
   "source": [
    "#q3.hint()\n",
    "#q3.solution()"
   ]
  },
  {
   "cell_type": "markdown",
   "id": "83bb2793",
   "metadata": {
    "papermill": {
     "duration": 0.007333,
     "end_time": "2023-11-14T02:25:51.613567",
     "exception": false,
     "start_time": "2023-11-14T02:25:51.606234",
     "status": "completed"
    },
    "tags": []
   },
   "source": [
    "# 4.\n",
    "\n",
    "What are the lengths of the following lists? Fill in the variable `lengths` with your predictions. (Try to make a prediction for each list *without* just calling `len()` on it.)"
   ]
  },
  {
   "cell_type": "code",
   "execution_count": 8,
   "id": "21cb8cb7",
   "metadata": {
    "execution": {
     "iopub.execute_input": "2023-11-14T02:25:51.631401Z",
     "iopub.status.busy": "2023-11-14T02:25:51.630025Z",
     "iopub.status.idle": "2023-11-14T02:25:51.640351Z",
     "shell.execute_reply": "2023-11-14T02:25:51.639168Z"
    },
    "papermill": {
     "duration": 0.02163,
     "end_time": "2023-11-14T02:25:51.642784",
     "exception": false,
     "start_time": "2023-11-14T02:25:51.621154",
     "status": "completed"
    },
    "tags": []
   },
   "outputs": [
    {
     "data": {
      "application/javascript": [
       "parent.postMessage({\"jupyterEvent\": \"custom.exercise_interaction\", \"data\": {\"outcomeType\": 4, \"interactionType\": 1, \"questionType\": 1, \"questionId\": \"4_UnderstandLen\", \"learnToolsVersion\": \"0.3.4\", \"valueTowardsCompletion\": 0.0, \"failureMessage\": \"\", \"exceptionClass\": \"\", \"trace\": \"\"}}, \"*\")"
      ],
      "text/plain": [
       "<IPython.core.display.Javascript object>"
      ]
     },
     "metadata": {},
     "output_type": "display_data"
    },
    {
     "data": {
      "text/markdown": [
       "<span style=\"color:#ccaa33\">Check:</span> When you've updated the starter code, `check()` will tell you whether your code is correct. You need to update the code that creates variable `lengths`"
      ],
      "text/plain": [
       "Check: When you've updated the starter code, `check()` will tell you whether your code is correct. You need to update the code that creates variable `lengths`"
      ]
     },
     "metadata": {},
     "output_type": "display_data"
    }
   ],
   "source": [
    "a = [1, 2, 3]\n",
    "b = [1, [2, 3]]\n",
    "c = []\n",
    "d = [1, 2, 3][1:]\n",
    "\n",
    "# Put your predictions in the list below. Lengths should contain 4 numbers, the\n",
    "# first being the length of a, the second being the length of b and so on.\n",
    "lengths = []\n",
    "\n",
    "# Check your answer\n",
    "q4.check()"
   ]
  },
  {
   "cell_type": "code",
   "execution_count": 9,
   "id": "68307f9b",
   "metadata": {
    "collapsed": true,
    "execution": {
     "iopub.execute_input": "2023-11-14T02:25:51.660699Z",
     "iopub.status.busy": "2023-11-14T02:25:51.660277Z",
     "iopub.status.idle": "2023-11-14T02:25:51.665166Z",
     "shell.execute_reply": "2023-11-14T02:25:51.664008Z"
    },
    "jupyter": {
     "outputs_hidden": true
    },
    "papermill": {
     "duration": 0.0168,
     "end_time": "2023-11-14T02:25:51.667687",
     "exception": false,
     "start_time": "2023-11-14T02:25:51.650887",
     "status": "completed"
    },
    "tags": []
   },
   "outputs": [],
   "source": [
    "# line below provides some explanation\n",
    "#q4.solution()"
   ]
  },
  {
   "cell_type": "markdown",
   "id": "2286244a",
   "metadata": {
    "papermill": {
     "duration": 0.007832,
     "end_time": "2023-11-14T02:25:51.683520",
     "exception": false,
     "start_time": "2023-11-14T02:25:51.675688",
     "status": "completed"
    },
    "tags": []
   },
   "source": [
    "# 5. <span title=\"A bit spicy\" style=\"color: darkgreen \">🌶️</span>\n",
    "\n",
    "We're using lists to record people who attended our party and what order they arrived in. For example, the following list represents a party with 7 guests, in which Adela showed up first and Ford was the last to arrive:\n",
    "\n",
    "    party_attendees = ['Adela', 'Fleda', 'Owen', 'May', 'Mona', 'Gilbert', 'Ford']\n",
    "\n",
    "A guest is considered 'fashionably late' if they arrived after at least half of the party's guests. However, they must not be the very last guest (that's taking it too far). In the above example, Mona and Gilbert are the only guests who were fashionably late.\n",
    "\n",
    "Complete the function below which takes a list of party attendees as well as a person, and tells us whether that person is fashionably late."
   ]
  },
  {
   "cell_type": "code",
   "execution_count": 10,
   "id": "c3297177",
   "metadata": {
    "execution": {
     "iopub.execute_input": "2023-11-14T02:25:51.701645Z",
     "iopub.status.busy": "2023-11-14T02:25:51.701198Z",
     "iopub.status.idle": "2023-11-14T02:25:51.710638Z",
     "shell.execute_reply": "2023-11-14T02:25:51.709485Z"
    },
    "papermill": {
     "duration": 0.021713,
     "end_time": "2023-11-14T02:25:51.713359",
     "exception": false,
     "start_time": "2023-11-14T02:25:51.691646",
     "status": "completed"
    },
    "tags": []
   },
   "outputs": [
    {
     "data": {
      "application/javascript": [
       "parent.postMessage({\"jupyterEvent\": \"custom.exercise_interaction\", \"data\": {\"outcomeType\": 4, \"interactionType\": 1, \"questionType\": 2, \"questionId\": \"5_FashionablyLate\", \"learnToolsVersion\": \"0.3.4\", \"valueTowardsCompletion\": 0.0, \"failureMessage\": \"\", \"exceptionClass\": \"\", \"trace\": \"\"}}, \"*\")"
      ],
      "text/plain": [
       "<IPython.core.display.Javascript object>"
      ]
     },
     "metadata": {},
     "output_type": "display_data"
    },
    {
     "data": {
      "text/markdown": [
       "<span style=\"color:#ccaa33\">Check:</span> When you've updated the starter code, `check()` will tell you whether your code is correct. "
      ],
      "text/plain": [
       "Check: When you've updated the starter code, `check()` will tell you whether your code is correct. "
      ]
     },
     "metadata": {},
     "output_type": "display_data"
    }
   ],
   "source": [
    "def fashionably_late(arrivals, name):\n",
    "    \"\"\"Given an ordered list of arrivals to the party and a name, return whether the guest with that\n",
    "    name was fashionably late.\n",
    "    \"\"\"\n",
    "    pass\n",
    "\n",
    "# Check your answer\n",
    "q5.check()"
   ]
  },
  {
   "cell_type": "code",
   "execution_count": 11,
   "id": "638d026c",
   "metadata": {
    "collapsed": true,
    "execution": {
     "iopub.execute_input": "2023-11-14T02:25:51.732246Z",
     "iopub.status.busy": "2023-11-14T02:25:51.731813Z",
     "iopub.status.idle": "2023-11-14T02:25:51.736355Z",
     "shell.execute_reply": "2023-11-14T02:25:51.735099Z"
    },
    "jupyter": {
     "outputs_hidden": true
    },
    "papermill": {
     "duration": 0.017431,
     "end_time": "2023-11-14T02:25:51.739318",
     "exception": false,
     "start_time": "2023-11-14T02:25:51.721887",
     "status": "completed"
    },
    "tags": []
   },
   "outputs": [],
   "source": [
    "#q5.hint()\n",
    "#q5.solution()"
   ]
  },
  {
   "cell_type": "markdown",
   "id": "4db379db",
   "metadata": {
    "papermill": {
     "duration": 0.008094,
     "end_time": "2023-11-14T02:25:51.756227",
     "exception": false,
     "start_time": "2023-11-14T02:25:51.748133",
     "status": "completed"
    },
    "tags": []
   },
   "source": [
    "# Keep Going\n",
    "\n",
    "That's it for lists and tuples! Now you have the baseline knowledge to **[learn about loops](https://www.kaggle.com/colinmorris/loops-and-list-comprehensions)**, which is where lists and tuples get really interesting. "
   ]
  },
  {
   "cell_type": "markdown",
   "id": "55bc020c",
   "metadata": {
    "papermill": {
     "duration": 0.008134,
     "end_time": "2023-11-14T02:25:51.772901",
     "exception": false,
     "start_time": "2023-11-14T02:25:51.764767",
     "status": "completed"
    },
    "tags": []
   },
   "source": [
    "---\n",
    "\n",
    "\n",
    "\n",
    "\n",
    "*Have questions or comments? Visit the [course discussion forum](https://www.kaggle.com/learn/python/discussion) to chat with other learners.*"
   ]
  }
 ],
 "metadata": {
  "kernelspec": {
   "display_name": "Python 3",
   "language": "python",
   "name": "python3"
  },
  "language_info": {
   "codemirror_mode": {
    "name": "ipython",
    "version": 3
   },
   "file_extension": ".py",
   "mimetype": "text/x-python",
   "name": "python",
   "nbconvert_exporter": "python",
   "pygments_lexer": "ipython3",
   "version": "3.10.12"
  },
  "papermill": {
   "default_parameters": {},
   "duration": 4.937111,
   "end_time": "2023-11-14T02:25:52.302417",
   "environment_variables": {},
   "exception": null,
   "input_path": "__notebook__.ipynb",
   "output_path": "__notebook__.ipynb",
   "parameters": {},
   "start_time": "2023-11-14T02:25:47.365306",
   "version": "2.4.0"
  }
 },
 "nbformat": 4,
 "nbformat_minor": 5
}
