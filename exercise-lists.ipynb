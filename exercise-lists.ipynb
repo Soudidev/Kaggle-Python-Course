{
 "cells": [
  {
   "cell_type": "markdown",
   "id": "efdc1288",
   "metadata": {
    "papermill": {
     "duration": 0.006946,
     "end_time": "2023-11-14T02:52:58.742462",
     "exception": false,
     "start_time": "2023-11-14T02:52:58.735516",
     "status": "completed"
    },
    "tags": []
   },
   "source": [
    "**This notebook is an exercise in the [Python](https://www.kaggle.com/learn/python) course.  You can reference the tutorial at [this link](https://www.kaggle.com/colinmorris/lists).**\n",
    "\n",
    "---\n"
   ]
  },
  {
   "cell_type": "markdown",
   "id": "9926e554",
   "metadata": {
    "papermill": {
     "duration": 0.006156,
     "end_time": "2023-11-14T02:52:58.755699",
     "exception": false,
     "start_time": "2023-11-14T02:52:58.749543",
     "status": "completed"
    },
    "tags": []
   },
   "source": [
    "Things get more interesting with lists. You'll apply your new knowledge to solve the questions below. Remember to run the following cell first."
   ]
  },
  {
   "cell_type": "code",
   "execution_count": 1,
   "id": "b60a6622",
   "metadata": {
    "execution": {
     "iopub.execute_input": "2023-11-14T02:52:58.772583Z",
     "iopub.status.busy": "2023-11-14T02:52:58.770808Z",
     "iopub.status.idle": "2023-11-14T02:52:59.241507Z",
     "shell.execute_reply": "2023-11-14T02:52:59.238859Z"
    },
    "papermill": {
     "duration": 0.482646,
     "end_time": "2023-11-14T02:52:59.244885",
     "exception": false,
     "start_time": "2023-11-14T02:52:58.762239",
     "status": "completed"
    },
    "tags": []
   },
   "outputs": [
    {
     "name": "stdout",
     "output_type": "stream",
     "text": [
      "Setup complete.\n"
     ]
    }
   ],
   "source": [
    "from learntools.core import binder; binder.bind(globals())\n",
    "from learntools.python.ex4 import *\n",
    "print('Setup complete.')"
   ]
  },
  {
   "cell_type": "markdown",
   "id": "74f17263",
   "metadata": {
    "papermill": {
     "duration": 0.006392,
     "end_time": "2023-11-14T02:52:59.258225",
     "exception": false,
     "start_time": "2023-11-14T02:52:59.251833",
     "status": "completed"
    },
    "tags": []
   },
   "source": [
    "# 1.\n",
    "\n",
    "Complete the function below according to its docstring."
   ]
  },
  {
   "cell_type": "code",
   "execution_count": 2,
   "id": "dfd184bc",
   "metadata": {
    "execution": {
     "iopub.execute_input": "2023-11-14T02:52:59.274229Z",
     "iopub.status.busy": "2023-11-14T02:52:59.273402Z",
     "iopub.status.idle": "2023-11-14T02:52:59.285579Z",
     "shell.execute_reply": "2023-11-14T02:52:59.284459Z"
    },
    "papermill": {
     "duration": 0.023138,
     "end_time": "2023-11-14T02:52:59.288242",
     "exception": false,
     "start_time": "2023-11-14T02:52:59.265104",
     "status": "completed"
    },
    "tags": []
   },
   "outputs": [
    {
     "data": {
      "application/javascript": [
       "parent.postMessage({\"jupyterEvent\": \"custom.exercise_interaction\", \"data\": {\"outcomeType\": 1, \"valueTowardsCompletion\": 0.2, \"interactionType\": 1, \"questionType\": 2, \"questionId\": \"1_SelectSecondItem\", \"learnToolsVersion\": \"0.3.4\", \"failureMessage\": \"\", \"exceptionClass\": \"\", \"trace\": \"\"}}, \"*\")"
      ],
      "text/plain": [
       "<IPython.core.display.Javascript object>"
      ]
     },
     "metadata": {},
     "output_type": "display_data"
    },
    {
     "data": {
      "text/markdown": [
       "<span style=\"color:#33cc33\">Correct</span>"
      ],
      "text/plain": [
       "Correct"
      ]
     },
     "metadata": {},
     "output_type": "display_data"
    }
   ],
   "source": [
    "def select_second(L):\n",
    "    \"\"\"Return the second element of the given list. If the list has no second\n",
    "    element, return None.\n",
    "    \"\"\"\n",
    "    return None if len(L)<2 else L[1]\n",
    "    pass\n",
    "\n",
    "# Check your answer\n",
    "q1.check()"
   ]
  },
  {
   "cell_type": "code",
   "execution_count": 3,
   "id": "9b72a455",
   "metadata": {
    "collapsed": true,
    "execution": {
     "iopub.execute_input": "2023-11-14T02:52:59.304879Z",
     "iopub.status.busy": "2023-11-14T02:52:59.304457Z",
     "iopub.status.idle": "2023-11-14T02:52:59.309341Z",
     "shell.execute_reply": "2023-11-14T02:52:59.307967Z"
    },
    "jupyter": {
     "outputs_hidden": true
    },
    "papermill": {
     "duration": 0.01652,
     "end_time": "2023-11-14T02:52:59.311913",
     "exception": false,
     "start_time": "2023-11-14T02:52:59.295393",
     "status": "completed"
    },
    "tags": []
   },
   "outputs": [],
   "source": [
    "#q1.hint()\n",
    "#q1.solution()"
   ]
  },
  {
   "cell_type": "markdown",
   "id": "10a31352",
   "metadata": {
    "papermill": {
     "duration": 0.007222,
     "end_time": "2023-11-14T02:52:59.326308",
     "exception": false,
     "start_time": "2023-11-14T02:52:59.319086",
     "status": "completed"
    },
    "tags": []
   },
   "source": [
    "# 2.\n",
    "\n",
    "You are analyzing sports teams.  Members of each team are stored in a list. The Coach is the first name in the list, the captain is the second name in the list, and other players are listed after that. \n",
    "These lists are stored in another list, which starts with the best team and proceeds through the list to the worst team last.  Complete the function below to select the **captain** of the worst team."
   ]
  },
  {
   "cell_type": "code",
   "execution_count": 4,
   "id": "ce7a2436",
   "metadata": {
    "execution": {
     "iopub.execute_input": "2023-11-14T02:52:59.342970Z",
     "iopub.status.busy": "2023-11-14T02:52:59.342565Z",
     "iopub.status.idle": "2023-11-14T02:52:59.352589Z",
     "shell.execute_reply": "2023-11-14T02:52:59.351213Z"
    },
    "papermill": {
     "duration": 0.021632,
     "end_time": "2023-11-14T02:52:59.355345",
     "exception": false,
     "start_time": "2023-11-14T02:52:59.333713",
     "status": "completed"
    },
    "tags": []
   },
   "outputs": [
    {
     "data": {
      "application/javascript": [
       "parent.postMessage({\"jupyterEvent\": \"custom.exercise_interaction\", \"data\": {\"outcomeType\": 1, \"valueTowardsCompletion\": 0.2, \"interactionType\": 1, \"questionType\": 2, \"questionId\": \"2_LosingTeamCaptain\", \"learnToolsVersion\": \"0.3.4\", \"failureMessage\": \"\", \"exceptionClass\": \"\", \"trace\": \"\"}}, \"*\")"
      ],
      "text/plain": [
       "<IPython.core.display.Javascript object>"
      ]
     },
     "metadata": {},
     "output_type": "display_data"
    },
    {
     "data": {
      "text/markdown": [
       "<span style=\"color:#33cc33\">Correct</span>"
      ],
      "text/plain": [
       "Correct"
      ]
     },
     "metadata": {},
     "output_type": "display_data"
    }
   ],
   "source": [
    "def losing_team_captain(teams):\n",
    "    \"\"\"Given a list of teams, where each team is a list of names, return the 2nd player (captain)\n",
    "    from the last listed team\n",
    "    \"\"\"\n",
    "    return teams [-1][1]\n",
    "    pass\n",
    "\n",
    "# Check your answer\n",
    "q2.check()"
   ]
  },
  {
   "cell_type": "code",
   "execution_count": 5,
   "id": "7d2dd738",
   "metadata": {
    "collapsed": true,
    "execution": {
     "iopub.execute_input": "2023-11-14T02:52:59.372629Z",
     "iopub.status.busy": "2023-11-14T02:52:59.372204Z",
     "iopub.status.idle": "2023-11-14T02:52:59.376547Z",
     "shell.execute_reply": "2023-11-14T02:52:59.375495Z"
    },
    "jupyter": {
     "outputs_hidden": true
    },
    "papermill": {
     "duration": 0.015905,
     "end_time": "2023-11-14T02:52:59.379013",
     "exception": false,
     "start_time": "2023-11-14T02:52:59.363108",
     "status": "completed"
    },
    "tags": []
   },
   "outputs": [],
   "source": [
    "#q2.hint()\n",
    "#q2.solution()"
   ]
  },
  {
   "cell_type": "markdown",
   "id": "0a4d6975",
   "metadata": {
    "papermill": {
     "duration": 0.007368,
     "end_time": "2023-11-14T02:52:59.394082",
     "exception": false,
     "start_time": "2023-11-14T02:52:59.386714",
     "status": "completed"
    },
    "tags": []
   },
   "source": [
    "# 3.\n",
    "\n",
    "The next iteration of Mario Kart will feature an extra-infuriating new item, the *Purple Shell*. When used, it warps the last place racer into first place and the first place racer into last place. Complete the function below to implement the Purple Shell's effect."
   ]
  },
  {
   "cell_type": "code",
   "execution_count": 6,
   "id": "592ca8df",
   "metadata": {
    "execution": {
     "iopub.execute_input": "2023-11-14T02:52:59.411856Z",
     "iopub.status.busy": "2023-11-14T02:52:59.411152Z",
     "iopub.status.idle": "2023-11-14T02:52:59.420260Z",
     "shell.execute_reply": "2023-11-14T02:52:59.419507Z"
    },
    "papermill": {
     "duration": 0.020989,
     "end_time": "2023-11-14T02:52:59.423147",
     "exception": false,
     "start_time": "2023-11-14T02:52:59.402158",
     "status": "completed"
    },
    "tags": []
   },
   "outputs": [
    {
     "data": {
      "application/javascript": [
       "parent.postMessage({\"jupyterEvent\": \"custom.exercise_interaction\", \"data\": {\"outcomeType\": 1, \"valueTowardsCompletion\": 0.2, \"interactionType\": 1, \"questionType\": 2, \"questionId\": \"3_PurpleShell\", \"learnToolsVersion\": \"0.3.4\", \"failureMessage\": \"\", \"exceptionClass\": \"\", \"trace\": \"\"}}, \"*\")"
      ],
      "text/plain": [
       "<IPython.core.display.Javascript object>"
      ]
     },
     "metadata": {},
     "output_type": "display_data"
    },
    {
     "data": {
      "text/markdown": [
       "<span style=\"color:#33cc33\">Correct</span>"
      ],
      "text/plain": [
       "Correct"
      ]
     },
     "metadata": {},
     "output_type": "display_data"
    }
   ],
   "source": [
    "def purple_shell(racers):\n",
    "    \"\"\"Given a list of racers, set the first place racer (at the front of the list) to last\n",
    "    place and vice versa.\n",
    "    \n",
    "    >>> r = [\"Mario\", \"Bowser\", \"Luigi\"]\n",
    "    >>> purple_shell(r)\n",
    "    >>> r\n",
    "    [\"Luigi\", \"Bowser\", \"Mario\"]\n",
    "    \"\"\"\n",
    "    racers[0], racers[-1] = racers[-1], racers[0]\n",
    "    pass\n",
    "\n",
    "# Check your answer\n",
    "q3.check()"
   ]
  },
  {
   "cell_type": "code",
   "execution_count": 7,
   "id": "97ea572a",
   "metadata": {
    "collapsed": true,
    "execution": {
     "iopub.execute_input": "2023-11-14T02:52:59.440972Z",
     "iopub.status.busy": "2023-11-14T02:52:59.440553Z",
     "iopub.status.idle": "2023-11-14T02:52:59.445347Z",
     "shell.execute_reply": "2023-11-14T02:52:59.444489Z"
    },
    "jupyter": {
     "outputs_hidden": true
    },
    "papermill": {
     "duration": 0.016973,
     "end_time": "2023-11-14T02:52:59.448154",
     "exception": false,
     "start_time": "2023-11-14T02:52:59.431181",
     "status": "completed"
    },
    "tags": []
   },
   "outputs": [],
   "source": [
    "#q3.hint()\n",
    "#q3.solution()"
   ]
  },
  {
   "cell_type": "markdown",
   "id": "77389ccf",
   "metadata": {
    "papermill": {
     "duration": 0.007788,
     "end_time": "2023-11-14T02:52:59.463900",
     "exception": false,
     "start_time": "2023-11-14T02:52:59.456112",
     "status": "completed"
    },
    "tags": []
   },
   "source": [
    "# 4.\n",
    "\n",
    "What are the lengths of the following lists? Fill in the variable `lengths` with your predictions. (Try to make a prediction for each list *without* just calling `len()` on it.)"
   ]
  },
  {
   "cell_type": "code",
   "execution_count": 8,
   "id": "e48190dc",
   "metadata": {
    "execution": {
     "iopub.execute_input": "2023-11-14T02:52:59.483558Z",
     "iopub.status.busy": "2023-11-14T02:52:59.482525Z",
     "iopub.status.idle": "2023-11-14T02:52:59.492383Z",
     "shell.execute_reply": "2023-11-14T02:52:59.491620Z"
    },
    "papermill": {
     "duration": 0.02349,
     "end_time": "2023-11-14T02:52:59.495598",
     "exception": false,
     "start_time": "2023-11-14T02:52:59.472108",
     "status": "completed"
    },
    "tags": []
   },
   "outputs": [
    {
     "data": {
      "application/javascript": [
       "parent.postMessage({\"jupyterEvent\": \"custom.exercise_interaction\", \"data\": {\"outcomeType\": 1, \"valueTowardsCompletion\": 0.2, \"interactionType\": 1, \"questionType\": 1, \"questionId\": \"4_UnderstandLen\", \"learnToolsVersion\": \"0.3.4\", \"failureMessage\": \"\", \"exceptionClass\": \"\", \"trace\": \"\"}}, \"*\")"
      ],
      "text/plain": [
       "<IPython.core.display.Javascript object>"
      ]
     },
     "metadata": {},
     "output_type": "display_data"
    },
    {
     "data": {
      "text/markdown": [
       "<span style=\"color:#33cc33\">Correct:</span> \n",
       "\n",
       "\n",
       "- a: There are three items in this list. Nothing tricky yet.\n",
       "- b: The list `[2, 3]` counts as a single item. It has one item before it. So we have 2 items in the list\n",
       "- c: The empty list has 0 items\n",
       "- d: The expression is the same as the list `[2, 3]`, which has length 2."
      ],
      "text/plain": [
       "Correct: \n",
       "\n",
       "\n",
       "- a: There are three items in this list. Nothing tricky yet.\n",
       "- b: The list `[2, 3]` counts as a single item. It has one item before it. So we have 2 items in the list\n",
       "- c: The empty list has 0 items\n",
       "- d: The expression is the same as the list `[2, 3]`, which has length 2."
      ]
     },
     "metadata": {},
     "output_type": "display_data"
    }
   ],
   "source": [
    "a = [1, 2, 3]\n",
    "b = [1, [2, 3]]\n",
    "c = []\n",
    "d = [1, 2, 3][1:]\n",
    "\n",
    "# Put your predictions in the list below. Lengths should contain 4 numbers, the\n",
    "# first being the length of a, the second being the length of b and so on.\n",
    "lengths = [3,2,0,2]\n",
    "\n",
    "# Check your answer\n",
    "q4.check()"
   ]
  },
  {
   "cell_type": "code",
   "execution_count": 9,
   "id": "0fc43718",
   "metadata": {
    "collapsed": true,
    "execution": {
     "iopub.execute_input": "2023-11-14T02:52:59.514468Z",
     "iopub.status.busy": "2023-11-14T02:52:59.513708Z",
     "iopub.status.idle": "2023-11-14T02:52:59.518780Z",
     "shell.execute_reply": "2023-11-14T02:52:59.517667Z"
    },
    "jupyter": {
     "outputs_hidden": true
    },
    "papermill": {
     "duration": 0.017615,
     "end_time": "2023-11-14T02:52:59.521694",
     "exception": false,
     "start_time": "2023-11-14T02:52:59.504079",
     "status": "completed"
    },
    "tags": []
   },
   "outputs": [],
   "source": [
    "# line below provides some explanation\n",
    "#q4.solution()"
   ]
  },
  {
   "cell_type": "markdown",
   "id": "caf3adc0",
   "metadata": {
    "papermill": {
     "duration": 0.008084,
     "end_time": "2023-11-14T02:52:59.538249",
     "exception": false,
     "start_time": "2023-11-14T02:52:59.530165",
     "status": "completed"
    },
    "tags": []
   },
   "source": [
    "# 5. <span title=\"A bit spicy\" style=\"color: darkgreen \">🌶️</span>\n",
    "\n",
    "We're using lists to record people who attended our party and what order they arrived in. For example, the following list represents a party with 7 guests, in which Adela showed up first and Ford was the last to arrive:\n",
    "\n",
    "    party_attendees = ['Adela', 'Fleda', 'Owen', 'May', 'Mona', 'Gilbert', 'Ford']\n",
    "\n",
    "A guest is considered 'fashionably late' if they arrived after at least half of the party's guests. However, they must not be the very last guest (that's taking it too far). In the above example, Mona and Gilbert are the only guests who were fashionably late.\n",
    "\n",
    "Complete the function below which takes a list of party attendees as well as a person, and tells us whether that person is fashionably late."
   ]
  },
  {
   "cell_type": "code",
   "execution_count": 10,
   "id": "fa175359",
   "metadata": {
    "execution": {
     "iopub.execute_input": "2023-11-14T02:52:59.558714Z",
     "iopub.status.busy": "2023-11-14T02:52:59.558103Z",
     "iopub.status.idle": "2023-11-14T02:52:59.568870Z",
     "shell.execute_reply": "2023-11-14T02:52:59.566925Z"
    },
    "papermill": {
     "duration": 0.026069,
     "end_time": "2023-11-14T02:52:59.573534",
     "exception": false,
     "start_time": "2023-11-14T02:52:59.547465",
     "status": "completed"
    },
    "tags": []
   },
   "outputs": [
    {
     "data": {
      "application/javascript": [
       "parent.postMessage({\"jupyterEvent\": \"custom.exercise_interaction\", \"data\": {\"outcomeType\": 1, \"valueTowardsCompletion\": 0.2, \"interactionType\": 1, \"questionType\": 2, \"questionId\": \"5_FashionablyLate\", \"learnToolsVersion\": \"0.3.4\", \"failureMessage\": \"\", \"exceptionClass\": \"\", \"trace\": \"\"}}, \"*\")"
      ],
      "text/plain": [
       "<IPython.core.display.Javascript object>"
      ]
     },
     "metadata": {},
     "output_type": "display_data"
    },
    {
     "data": {
      "text/markdown": [
       "<span style=\"color:#33cc33\">Correct</span>"
      ],
      "text/plain": [
       "Correct"
      ]
     },
     "metadata": {},
     "output_type": "display_data"
    }
   ],
   "source": [
    "def fashionably_late(arrivals, name):\n",
    "    \"\"\"Given an ordered list of arrivals to the party and a name, return whether the guest with that\n",
    "    name was fashionably late.\n",
    "    \"\"\"\n",
    "    start_list = round(len(arrivals)/2)\n",
    "    fashionably_late = arrivals[start_list: -1]\n",
    "    return True if name in fashionably_late else False\n",
    "    pass\n",
    "\n",
    "# Check your answer\n",
    "q5.check()"
   ]
  },
  {
   "cell_type": "code",
   "execution_count": 11,
   "id": "cce9d8f6",
   "metadata": {
    "collapsed": true,
    "execution": {
     "iopub.execute_input": "2023-11-14T02:52:59.593895Z",
     "iopub.status.busy": "2023-11-14T02:52:59.593476Z",
     "iopub.status.idle": "2023-11-14T02:52:59.599037Z",
     "shell.execute_reply": "2023-11-14T02:52:59.597618Z"
    },
    "jupyter": {
     "outputs_hidden": true
    },
    "papermill": {
     "duration": 0.01872,
     "end_time": "2023-11-14T02:52:59.601822",
     "exception": false,
     "start_time": "2023-11-14T02:52:59.583102",
     "status": "completed"
    },
    "tags": []
   },
   "outputs": [],
   "source": [
    "#q5.hint()\n",
    "#q5.solution()"
   ]
  },
  {
   "cell_type": "markdown",
   "id": "b93109ed",
   "metadata": {
    "papermill": {
     "duration": 0.008524,
     "end_time": "2023-11-14T02:52:59.619211",
     "exception": false,
     "start_time": "2023-11-14T02:52:59.610687",
     "status": "completed"
    },
    "tags": []
   },
   "source": [
    "# Keep Going\n",
    "\n",
    "That's it for lists and tuples! Now you have the baseline knowledge to **[learn about loops](https://www.kaggle.com/colinmorris/loops-and-list-comprehensions)**, which is where lists and tuples get really interesting. "
   ]
  },
  {
   "cell_type": "markdown",
   "id": "fd404d28",
   "metadata": {
    "papermill": {
     "duration": 0.008593,
     "end_time": "2023-11-14T02:52:59.636701",
     "exception": false,
     "start_time": "2023-11-14T02:52:59.628108",
     "status": "completed"
    },
    "tags": []
   },
   "source": [
    "---\n",
    "\n",
    "\n",
    "\n",
    "\n",
    "*Have questions or comments? Visit the [course discussion forum](https://www.kaggle.com/learn/python/discussion) to chat with other learners.*"
   ]
  }
 ],
 "metadata": {
  "kernelspec": {
   "display_name": "Python 3",
   "language": "python",
   "name": "python3"
  },
  "language_info": {
   "codemirror_mode": {
    "name": "ipython",
    "version": 3
   },
   "file_extension": ".py",
   "mimetype": "text/x-python",
   "name": "python",
   "nbconvert_exporter": "python",
   "pygments_lexer": "ipython3",
   "version": "3.10.12"
  },
  "papermill": {
   "default_parameters": {},
   "duration": 4.974958,
   "end_time": "2023-11-14T02:53:00.168498",
   "environment_variables": {},
   "exception": null,
   "input_path": "__notebook__.ipynb",
   "output_path": "__notebook__.ipynb",
   "parameters": {},
   "start_time": "2023-11-14T02:52:55.193540",
   "version": "2.4.0"
  }
 },
 "nbformat": 4,
 "nbformat_minor": 5
}
